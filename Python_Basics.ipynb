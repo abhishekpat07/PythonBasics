{
  "nbformat": 4,
  "nbformat_minor": 0,
  "metadata": {
    "colab": {
      "provenance": []
    },
    "kernelspec": {
      "name": "python3",
      "display_name": "Python 3"
    },
    "language_info": {
      "name": "python"
    }
  },
  "cells": [
    {
      "cell_type": "markdown",
      "source": [
        "#Python Basics"
      ],
      "metadata": {
        "id": "3U6ryGNqMHAP"
      }
    },
    {
      "cell_type": "markdown",
      "source": [
        "1. What is Python, and why is it popular?\n",
        "   - Python is a high level, general-purpose progamming langauge.\n",
        "   It is quit popular because:\n",
        "   1. Easy to learn and Use\n",
        "   2. Simple syntax\n",
        "   3. Verastility- it can be used for Web developemet, Data Science, Game development and applications etc.\n",
        "   4. Large stardard library\n",
        "\n",
        "2. What is an interpreter in Python ?\n",
        "  - A pyhton interpreter is a computer program that convert Python code into machine code so that a computer can understand and execute it.\n",
        "\n",
        "3. What are pre-defined keywords in Python?\n",
        "  - Pre-defined keywords in Pythin are reserved words that hane specific meaning and purposes within the Python language. These keywords are part of Python's syntax and cannot be used as variaable names, function name, or identifiers.\n",
        "  Example of Pre-defined keywords:-\n",
        "  1. if\n",
        "  2. for\n",
        "  3. while\n",
        "  4. break\n",
        "  5. continue\n",
        "  6. False\n",
        "  7. True\n",
        "  8. None etc\n",
        "\n",
        "4. Can keywords be used as variable names?\n",
        "   - No, keywords cannot be used as variable name in Python.\n"
      ],
      "metadata": {
        "id": "Prnmvxr9qn88"
      }
    },
    {
      "cell_type": "markdown",
      "source": [
        "5. What is mutability in Python?\n",
        "   - Mutability in python refers to the ability of an object to be modified after it has been created.\n",
        "   Objects in Python can be classified into two types based on their mutability:\n",
        "   1. Mutable Objects: Objects whose values can be changed after creation.(e.g. lists)\n",
        "   2. Immutable Objects: Objects whose values cannot be changed after creation. (e.g. string, tuples)\n",
        "\n",
        "6. Why are lists mutable, but tuples are immutable?\n",
        "   - Lists are mutable because they are meant for situations where you need a flexible, modifiable collection.\n",
        "   - Tuples are immutable because they are designed for static, unchanging data and are more efficient and safe for certain operations (e.g., keys in dictionaries).\n",
        "\n",
        "7. What is the difference between “==” and “is” operators in Python?\n",
        "   - \"==\" operator is Equality Operator.\n",
        "   This operator checks if the values of two objects are equal. It is used for value-based comparisons.\n",
        "   - \"is: operatars is Identity Operator.\n",
        "   This operator cj=hecks if two objects have the same identity, i.e, if they point to the same memory loaction. It does not compare values, only whether the two variable refer to the exact same object.\n",
        "\n",
        "8. What are logical operators in Python?\n",
        "   - Logical operators in Python are used to perform logical operations on values or expressions. These operators help you combine multiple conditions or expressions, and they return either True or False based on the evalution. The three logical operators in Python are:\n",
        "   1. and : Returns True it both statements are True.\n",
        "   2. or : returns Ture if one of the statements is True.\n",
        "   3. not : Reverses the result, so if something is True, not turns it False.\n",
        "\n",
        "9. What is type casting in Python?\n",
        "   - Type Casting in Python is the process of coverting a variable's data type to another. There are two types of type casting in Python:\n",
        "   1. Implicit Type Casting: Python automatically converts one data type to another when necessary.\n",
        "   2. Explicit Type Casting: When manually convert one data type to another using fuctions like int(), float (), str (), etc.\n",
        "\n",
        "10. What is the difference between implicit and explicit type casting?\n",
        "    - 1. Implicit Type Casting: Python automatically converts one data type to another when necessary.\n",
        "   - 2. Explicit Type Casting: When manually convert one data type to another using fuctions like int(), float (), str (), etc.\n",
        "\n",
        "\n",
        "11. What is the purpose of conditional statements in Python?\n",
        "    - The purpose of conditional statements in Python is to control the flow of a program by making decisions based on certain conditions.It help to code choose what to do based on whether certain conditions are True or False.\n",
        "\n",
        "12. How does the elif statement work?\n",
        "    - The elif statement in Python is short for \"else if\", is conditional statement that allows to check multiple conditions in sequence.\n",
        "\n",
        "13. What is the difference between for and while loops ?\n",
        "    - for loop:\n",
        "    1. literates over a sequence or range.\n",
        "    2. Number of iterations is known beforehand.\n",
        "    - while loop:\n",
        "    1. Repeats based on a condition.\n",
        "    2. Number of iterations is unknown.\n",
        "\n",
        "14.  Describe a scenario where a while loop is more suitable than a for loop?\n",
        "    - Writing a program where i need to prompt the user for a correct password. And I don't know in advance how many attempts the user will need to input the correct password. In this type of situation, a while loop is more appropriate because it runs untill the condition is satisfied."
      ],
      "metadata": {
        "id": "zodKTVFS50bI"
      }
    },
    {
      "cell_type": "markdown",
      "source": [
        "#Practical_Questions"
      ],
      "metadata": {
        "id": "HQuUFFKHL811"
      }
    },
    {
      "cell_type": "code",
      "source": [
        "#1  Write a Python program to print \"Hello, World!\n",
        "\n",
        "print (\"Hello, World!\")"
      ],
      "metadata": {
        "colab": {
          "base_uri": "https://localhost:8080/"
        },
        "id": "9tNGvCRyMbDK",
        "outputId": "b8ff0e38-e4ec-47e3-e4d5-536bab6c3777"
      },
      "execution_count": null,
      "outputs": [
        {
          "output_type": "stream",
          "name": "stdout",
          "text": [
            "Hello, World!\n"
          ]
        }
      ]
    },
    {
      "cell_type": "code",
      "source": [
        "#2. Write a Python program that displays your name and age\n",
        "\n",
        "name =\"Abhishek\"\n",
        "age = 30\n",
        "print (\"My name is\", name)\n",
        "print (\"My age is\", age)"
      ],
      "metadata": {
        "colab": {
          "base_uri": "https://localhost:8080/"
        },
        "id": "1flObj0TNIuZ",
        "outputId": "fd7ca0a7-89a6-43f4-827c-066c619cdbac"
      },
      "execution_count": null,
      "outputs": [
        {
          "output_type": "stream",
          "name": "stdout",
          "text": [
            "My name is Abhishek\n",
            "My age is 30\n"
          ]
        }
      ]
    },
    {
      "cell_type": "code",
      "source": [
        "#3.  Write code to print all the pre-defined keywords in Python using the keyword library\n",
        "\n",
        "help (\"keywords\")"
      ],
      "metadata": {
        "colab": {
          "base_uri": "https://localhost:8080/"
        },
        "id": "Tp_AhKBfPDTV",
        "outputId": "9754d427-3ec5-4509-c927-1935af1a7fb9"
      },
      "execution_count": null,
      "outputs": [
        {
          "output_type": "stream",
          "name": "stdout",
          "text": [
            "\n",
            "Here is a list of the Python keywords.  Enter any keyword to get more help.\n",
            "\n",
            "False               class               from                or\n",
            "None                continue            global              pass\n",
            "True                def                 if                  raise\n",
            "and                 del                 import              return\n",
            "as                  elif                in                  try\n",
            "assert              else                is                  while\n",
            "async               except              lambda              with\n",
            "await               finally             nonlocal            yield\n",
            "break               for                 not                 \n",
            "\n"
          ]
        }
      ]
    },
    {
      "cell_type": "code",
      "source": [
        "#4. Write a program that checks if a given word is a Python keyword.\n",
        "\n",
        "import keyword\n",
        "word = input (\"Enter a word to check if it's a Python keyword:\")\n",
        "if keyword. iskeyword (word):\n",
        "  print (f\"'{word}' is a Python keyword.\")\n",
        "else:\n",
        "  print (f\"'{word}' is Not a Python keyword.\")\n"
      ],
      "metadata": {
        "colab": {
          "base_uri": "https://localhost:8080/"
        },
        "id": "1YS8e1h_PVbA",
        "outputId": "72e92a74-d99e-4ad7-fcfc-de7f718d2bec"
      },
      "execution_count": null,
      "outputs": [
        {
          "output_type": "stream",
          "name": "stdout",
          "text": [
            "Enter a word to check if it's a Python keyword:if\n",
            "'if' is a Python keyword.\n"
          ]
        }
      ]
    },
    {
      "cell_type": "code",
      "source": [
        "#5.  Create a list and tuple in Python, and demonstrate how attempting to change an element works differently  for each.\n",
        "\n",
        "my_list = [1,2,3,4,5]\n",
        "my_tuple = (1,2,3,4,5)\n",
        "print(\"original list:\", my_list)\n",
        "my_list[3]=45\n",
        "print(\"new list:\", my_list)\n",
        "\n",
        "print(\"original tuple:\", my_tuple)\n",
        "my_tuple[1] = 30\n",
        "print (\"my_tuple\")\n",
        "\n"
      ],
      "metadata": {
        "id": "k_pIJ7GZRM9_",
        "colab": {
          "base_uri": "https://localhost:8080/",
          "height": 263
        },
        "outputId": "a0a2a8c8-fbd9-4225-dfbe-87f83e29a29e"
      },
      "execution_count": 11,
      "outputs": [
        {
          "output_type": "stream",
          "name": "stdout",
          "text": [
            "original list: [1, 2, 3, 4, 5]\n",
            "new list: [1, 2, 3, 45, 5]\n",
            "original tuple: (1, 2, 3, 4, 5)\n"
          ]
        },
        {
          "output_type": "error",
          "ename": "TypeError",
          "evalue": "'tuple' object does not support item assignment",
          "traceback": [
            "\u001b[0;31m---------------------------------------------------------------------------\u001b[0m",
            "\u001b[0;31mTypeError\u001b[0m                                 Traceback (most recent call last)",
            "\u001b[0;32m<ipython-input-11-6f492736aae0>\u001b[0m in \u001b[0;36m<cell line: 10>\u001b[0;34m()\u001b[0m\n\u001b[1;32m      8\u001b[0m \u001b[0;34m\u001b[0m\u001b[0m\n\u001b[1;32m      9\u001b[0m \u001b[0mprint\u001b[0m\u001b[0;34m(\u001b[0m\u001b[0;34m\"original tuple:\"\u001b[0m\u001b[0;34m,\u001b[0m \u001b[0mmy_tuple\u001b[0m\u001b[0;34m)\u001b[0m\u001b[0;34m\u001b[0m\u001b[0;34m\u001b[0m\u001b[0m\n\u001b[0;32m---> 10\u001b[0;31m \u001b[0mmy_tuple\u001b[0m\u001b[0;34m[\u001b[0m\u001b[0;36m1\u001b[0m\u001b[0;34m]\u001b[0m \u001b[0;34m=\u001b[0m \u001b[0;36m30\u001b[0m\u001b[0;34m\u001b[0m\u001b[0;34m\u001b[0m\u001b[0m\n\u001b[0m\u001b[1;32m     11\u001b[0m \u001b[0mprint\u001b[0m \u001b[0;34m(\u001b[0m\u001b[0;34m\"my_tuple\"\u001b[0m\u001b[0;34m)\u001b[0m\u001b[0;34m\u001b[0m\u001b[0;34m\u001b[0m\u001b[0m\n\u001b[1;32m     12\u001b[0m \u001b[0;34m\u001b[0m\u001b[0m\n",
            "\u001b[0;31mTypeError\u001b[0m: 'tuple' object does not support item assignment"
          ]
        }
      ]
    },
    {
      "cell_type": "code",
      "source": [
        "#6. Write a function to demonstrate the behavior of mutable and immutable arguments\n",
        "\n",
        "a= [1,2,3,4,5]\n",
        "print (\"original list\",a)\n",
        "a[2]=60\n",
        "print (\"new list\",a)\n",
        "num = 10\n",
        "print (\"original Integer:\", num)\n",
        "num += 1\n",
        "print (\"new integer:\", num)"
      ],
      "metadata": {
        "colab": {
          "base_uri": "https://localhost:8080/"
        },
        "id": "myK5go7WjZtQ",
        "outputId": "34dc7142-7043-4321-964e-de4f658cab14"
      },
      "execution_count": 12,
      "outputs": [
        {
          "output_type": "stream",
          "name": "stdout",
          "text": [
            "original list [1, 2, 3, 4, 5]\n",
            "new list [1, 2, 60, 4, 5]\n",
            "original Integer: 10\n",
            "new integer: 11\n"
          ]
        }
      ]
    },
    {
      "cell_type": "code",
      "source": [
        "#7. Write a function to demonstrate the behavior of mutable and immutable arguments\n",
        "\n",
        "a= [1,2,3,4,5]\n",
        "print (\"original list\",a)\n",
        "a[2]=60\n",
        "print (\"new list\",a)\n",
        "num = 10\n",
        "print (\"original Integer:\", num)\n",
        "num += 1\n",
        "print (\"new integer:\", num)"
      ],
      "metadata": {
        "colab": {
          "base_uri": "https://localhost:8080/"
        },
        "id": "HcMlmM5mjc6-",
        "outputId": "751f7f5c-d5b7-4d99-ef11-04a1014d9e88"
      },
      "execution_count": 13,
      "outputs": [
        {
          "output_type": "stream",
          "name": "stdout",
          "text": [
            "original list [1, 2, 3, 4, 5]\n",
            "new list [1, 2, 60, 4, 5]\n",
            "original Integer: 10\n",
            "new integer: 11\n"
          ]
        }
      ]
    },
    {
      "cell_type": "code",
      "source": [
        "#8. Write a program to demonstrate the use of logical operators.\n",
        "\n",
        "x = 10\n",
        "y = 20\n",
        "if x>0 and y>0:\n",
        "  print(\"Both x and y are positive.\")\n"
      ],
      "metadata": {
        "colab": {
          "base_uri": "https://localhost:8080/"
        },
        "id": "4pAwammcjftK",
        "outputId": "38cd1f4d-e591-42fb-ed1e-ba53f1816d98"
      },
      "execution_count": 14,
      "outputs": [
        {
          "output_type": "stream",
          "name": "stdout",
          "text": [
            "Both x and y are positive.\n"
          ]
        }
      ]
    },
    {
      "cell_type": "code",
      "source": [
        "#9. Write a Python program to convert user input from string to integer, float, and boolean types\n",
        "\n",
        "\n",
        "a = input(\"Enter a value: \")\n",
        "try:\n",
        "    b = int(a)\n",
        "    print(f\"Converted to integer: {b}\")\n",
        "except ValueError:\n",
        "    print(\"Could not convert to integer.\")\n",
        "try:\n",
        "    c = float(a)\n",
        "    print(f\"Converted to float: {c}\")\n",
        "except ValueError:\n",
        "    print(\"Could not convert to float.\")\n",
        "d = bool(a)\n",
        "print(f\"Converted to boolean: {d}\")\n"
      ],
      "metadata": {
        "colab": {
          "base_uri": "https://localhost:8080/"
        },
        "id": "8lRDfMe3jirq",
        "outputId": "fd645487-522f-4cc8-ec24-44afd7b5cc1e"
      },
      "execution_count": 15,
      "outputs": [
        {
          "output_type": "stream",
          "name": "stdout",
          "text": [
            "Enter a value: 3\n",
            "Converted to integer: 3\n",
            "Converted to float: 3.0\n",
            "Converted to boolean: True\n"
          ]
        }
      ]
    },
    {
      "cell_type": "code",
      "source": [
        "#10.\n"
      ],
      "metadata": {
        "id": "wENTY_31j1t6"
      },
      "execution_count": 16,
      "outputs": []
    },
    {
      "cell_type": "code",
      "source": [
        "#11.  Write a program that checks if a number is positive, negative, or zero\n",
        "\n",
        "\n",
        "num = float(input(\"Enter a number: \"))\n",
        "if num > 0:\n",
        "    print(\"The number is positive.\")\n",
        "elif num< 0:\n",
        "    print(\"The number is negative.\")\n",
        "else:\n",
        "    print(\"The number is zero.\")\n"
      ],
      "metadata": {
        "colab": {
          "base_uri": "https://localhost:8080/"
        },
        "id": "E23GkLtrnSf6",
        "outputId": "f00b0666-a36a-4b37-9bdb-d6dd95395bab"
      },
      "execution_count": 17,
      "outputs": [
        {
          "output_type": "stream",
          "name": "stdout",
          "text": [
            "Enter a number: 34.1\n",
            "The number is positive.\n"
          ]
        }
      ]
    },
    {
      "cell_type": "code",
      "source": [
        "#12.  Write a for loop to print numbers from 1 to 10\n",
        "\n",
        "for i in range (1,11):\n",
        "  print (i)"
      ],
      "metadata": {
        "colab": {
          "base_uri": "https://localhost:8080/"
        },
        "id": "PFp5a9r0n0Gl",
        "outputId": "ffa34fbc-f0d3-42c3-f516-319be4b3c768"
      },
      "execution_count": 20,
      "outputs": [
        {
          "output_type": "stream",
          "name": "stdout",
          "text": [
            "1\n",
            "2\n",
            "3\n",
            "4\n",
            "5\n",
            "6\n",
            "7\n",
            "8\n",
            "9\n",
            "10\n"
          ]
        }
      ]
    },
    {
      "cell_type": "code",
      "source": [
        "#13. Write a Python program to find the sum of all even numbers between 1 and 50\n",
        "\n",
        "sum_of_even_num = 0\n",
        "\n",
        "for num in range(1, 51):\n",
        "    if num % 2 == 0:\n",
        "        sum_of_even_num += num\n",
        "\n",
        "print(\"The sum of all even numbers between 1 and 50 is:\", sum_of_even_num)\n"
      ],
      "metadata": {
        "colab": {
          "base_uri": "https://localhost:8080/"
        },
        "id": "LI9mG6AfoRfH",
        "outputId": "dda6a1c5-306d-4652-f656-6343d7b799bc"
      },
      "execution_count": 23,
      "outputs": [
        {
          "output_type": "stream",
          "name": "stdout",
          "text": [
            "The sum of all even numbers between 1 and 50 is: 650\n"
          ]
        }
      ]
    },
    {
      "cell_type": "code",
      "source": [
        "#14. Write a program to reverse a string using a while loop\n",
        "\n",
        "a = input(\"Enter a string:\")\n",
        "b = \"\"\n",
        "c = len(a)-1\n",
        "while c >= 0:\n",
        "  b += a[c]\n",
        "  c -=1\n",
        "print(\"Reverse string:\", b)"
      ],
      "metadata": {
        "colab": {
          "base_uri": "https://localhost:8080/"
        },
        "id": "TkwPnovho4Oz",
        "outputId": "45d650b3-b63f-4c1f-8942-ab0edc794702"
      },
      "execution_count": 24,
      "outputs": [
        {
          "output_type": "stream",
          "name": "stdout",
          "text": [
            "Enter a string:yellow\n",
            "Reverse string: wolley\n"
          ]
        }
      ]
    },
    {
      "cell_type": "code",
      "source": [
        "#15.  Write a Python program to calculate the factorial of a number provided by the user using a while loop.\n",
        "\n",
        "\n",
        "num = int(input(\"Enter a number to calculate its factorial: \"))\n",
        "factorial = 1\n",
        "counter = num\n",
        "while counter > 0:\n",
        "    factorial *= counter\n",
        "    counter -= 1\n",
        "print(f\"The factorial of {num} is: {factorial}\")\n"
      ],
      "metadata": {
        "colab": {
          "base_uri": "https://localhost:8080/"
        },
        "id": "VCBvaZCGqgfz",
        "outputId": "1df6afef-20af-4f58-aba0-20b60d512783"
      },
      "execution_count": 25,
      "outputs": [
        {
          "output_type": "stream",
          "name": "stdout",
          "text": [
            "Enter a number to calculate its factorial: 7\n",
            "The factorial of 7 is: 5040\n"
          ]
        }
      ]
    },
    {
      "cell_type": "code",
      "source": [],
      "metadata": {
        "id": "R4fcsc2yrYq6"
      },
      "execution_count": null,
      "outputs": []
    }
  ]
}